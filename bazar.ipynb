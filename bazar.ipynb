{
 "cells": [
  {
   "cell_type": "markdown",
   "metadata": {},
   "source": [
    "## Bismillah Hirrahmanirraheem"
   ]
  },
  {
   "cell_type": "code",
   "execution_count": 1,
   "metadata": {},
   "outputs": [],
   "source": [
    "import pandas as pd\n",
    "import numpy as np\n",
    "import seaborn as sn\n",
    "import matplotlib.pyplot as plt"
   ]
  },
  {
   "cell_type": "code",
   "execution_count": 3,
   "metadata": {},
   "outputs": [],
   "source": [
    "import pandas as pd\n",
    "import numpy as np\n",
    "from faker import Faker\n",
    "\n",
    "fake = Faker()\n",
    "\n",
    "# Generate Sales Data\n",
    "num_rows = 20000\n",
    "categories = [\"Grocery\", \"Electronics\", \"Clothing\", \"Home Appliances\", \"Furniture\", \"Toys\", \"Sports\", \"Books\"]\n",
    "payment_methods = [\"Credit Card\", \"Debit Card\", \"UPI\", \"Cash\", \"Wallet\"]\n",
    "cities = [\"Mumbai\", \"Delhi\", \"Bangalore\", \"Hyderabad\", \"Chennai\", \"Kolkata\", \"Pune\", \"Ahmedabad\"]\n",
    "\n",
    "sales_data = {\n",
    "    \"Sale_ID\": range(1, num_rows + 1),\n",
    "    \"Customer_ID\": np.random.randint(1, 5001, num_rows),\n",
    "    \"Product_Name\": [fake.word().capitalize() for _ in range(num_rows)],\n",
    "    \"Category\": np.random.choice(categories, num_rows),\n",
    "    \"Quantity\": np.random.randint(1, 10, num_rows),\n",
    "    \"Price\": np.round(np.random.uniform(50, 5000, num_rows), 2),\n",
    "    \"Discount\": np.round(np.random.uniform(0, 0.3, num_rows), 2),\n",
    "    \"Payment_Method\": np.random.choice(payment_methods, num_rows),\n",
    "    \"City\": np.random.choice(cities, num_rows),\n",
    "    \"Purchase_Date\": [fake.date_between(start_date='-2y', end_date='today') for _ in range(num_rows)]\n",
    "}\n",
    "\n",
    "sales_df = pd.DataFrame(sales_data)\n",
    "sales_df[\"Total_Sales\"] = sales_df[\"Quantity\"] * sales_df[\"Price\"] * (1 - sales_df[\"Discount\"])\n",
    "\n",
    "# Generate Customer Data\n",
    "num_customers = 5000\n",
    "customer_data = {\n",
    "    \"Customer_ID\": range(1, num_customers + 1),\n",
    "    \"Customer_Name\": [fake.name() for _ in range(num_customers)],\n",
    "    \"Age\": np.random.randint(18, 65, num_customers),\n",
    "    \"Gender\": np.random.choice([\"Male\", \"Female\", \"Other\"], num_customers),\n",
    "    \"City\": np.random.choice(cities, num_customers),\n",
    "    \"Membership_Status\": np.random.choice([\"Regular\", \"Gold\", \"Platinum\"], num_customers),\n",
    "    \"Total_Purchases\": np.random.randint(1, 50, num_customers),\n",
    "    \"Total_Spent\": np.round(np.random.uniform(500, 50000, num_customers), 2)\n",
    "}\n",
    "\n",
    "customer_df = pd.DataFrame(customer_data)\n",
    "\n",
    "# Save as CSV\n",
    "sales_df.to_csv(\"Sales.csv\", index=False)\n",
    "customer_df.to_csv(\"Customers.csv\", index=False)\n"
   ]
  }
 ],
 "metadata": {
  "kernelspec": {
   "display_name": "myenv",
   "language": "python",
   "name": "python3"
  },
  "language_info": {
   "codemirror_mode": {
    "name": "ipython",
    "version": 3
   },
   "file_extension": ".py",
   "mimetype": "text/x-python",
   "name": "python",
   "nbconvert_exporter": "python",
   "pygments_lexer": "ipython3",
   "version": "3.13.1"
  }
 },
 "nbformat": 4,
 "nbformat_minor": 2
}
